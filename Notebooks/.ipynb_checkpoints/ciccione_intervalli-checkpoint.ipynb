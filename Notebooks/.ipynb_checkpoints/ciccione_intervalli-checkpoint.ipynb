{
 "cells": [
  {
   "cell_type": "code",
   "execution_count": 3,
   "metadata": {
    "ExecuteTime": {
     "end_time": "2020-12-12T16:21:32.494873Z",
     "start_time": "2020-12-12T16:21:32.488738Z"
    }
   },
   "outputs": [],
   "source": [
    "import numpy as np\n",
    "import pandas as pd\n",
    "import matplotlib.pyplot as plt\n",
    "import scipy\n",
    "import sklearn\n",
    "import seaborn as sns\n",
    "import xlrd\n",
    "import time\n",
    "import statsmodels.api as sm"
   ]
  },
  {
   "cell_type": "code",
   "execution_count": 4,
   "metadata": {
    "ExecuteTime": {
     "end_time": "2020-12-12T16:21:34.309201Z",
     "start_time": "2020-12-12T16:21:34.172329Z"
    },
    "pycharm": {
     "name": "#%%\n"
    }
   },
   "outputs": [
    {
     "data": {
      "text/html": [
       "<div>\n",
       "<style scoped>\n",
       "    .dataframe tbody tr th:only-of-type {\n",
       "        vertical-align: middle;\n",
       "    }\n",
       "\n",
       "    .dataframe tbody tr th {\n",
       "        vertical-align: top;\n",
       "    }\n",
       "\n",
       "    .dataframe thead th {\n",
       "        text-align: right;\n",
       "    }\n",
       "</style>\n",
       "<table border=\"1\" class=\"dataframe\">\n",
       "  <thead>\n",
       "    <tr style=\"text-align: right;\">\n",
       "      <th></th>\n",
       "      <th>RSS</th>\n",
       "      <th>model</th>\n",
       "      <th>number_of_predictors</th>\n",
       "      <th>name_of_predictors</th>\n",
       "      <th>Y_pred</th>\n",
       "      <th>aic</th>\n",
       "      <th>bic</th>\n",
       "      <th>mse</th>\n",
       "      <th>adj_rsquare</th>\n",
       "    </tr>\n",
       "  </thead>\n",
       "  <tbody>\n",
       "    <tr>\n",
       "      <th>bic</th>\n",
       "      <td>88.8893</td>\n",
       "      <td>&lt;statsmodels.regression.linear_model.Regressio...</td>\n",
       "      <td>9</td>\n",
       "      <td>[endpoint1, sex endpoint1, endpoint2, dose end...</td>\n",
       "      <td>0     569.095916\n",
       "1     550.362977\n",
       "2     532.44...</td>\n",
       "      <td>117.533</td>\n",
       "      <td>128.136</td>\n",
       "      <td>65034.3</td>\n",
       "      <td>0.999909</td>\n",
       "    </tr>\n",
       "    <tr>\n",
       "      <th>aic</th>\n",
       "      <td>53.7501</td>\n",
       "      <td>&lt;statsmodels.regression.linear_model.Regressio...</td>\n",
       "      <td>13</td>\n",
       "      <td>[endpoint1, sex endpoint1, endpoint2, dose end...</td>\n",
       "      <td>0     570.400000\n",
       "1     548.500000\n",
       "2     533.00...</td>\n",
       "      <td>113.46</td>\n",
       "      <td>128.775</td>\n",
       "      <td>40512</td>\n",
       "      <td>0.999879</td>\n",
       "    </tr>\n",
       "    <tr>\n",
       "      <th>adj_rsquare</th>\n",
       "      <td>88.8893</td>\n",
       "      <td>&lt;statsmodels.regression.linear_model.Regressio...</td>\n",
       "      <td>9</td>\n",
       "      <td>[endpoint1, sex endpoint1, endpoint2, dose end...</td>\n",
       "      <td>0     569.095916\n",
       "1     550.362977\n",
       "2     532.44...</td>\n",
       "      <td>117.533</td>\n",
       "      <td>128.136</td>\n",
       "      <td>65034.3</td>\n",
       "      <td>0.999909</td>\n",
       "    </tr>\n",
       "  </tbody>\n",
       "</table>\n",
       "</div>"
      ],
      "text/plain": [
       "                 RSS                                              model  \\\n",
       "bic          88.8893  <statsmodels.regression.linear_model.Regressio...   \n",
       "aic          53.7501  <statsmodels.regression.linear_model.Regressio...   \n",
       "adj_rsquare  88.8893  <statsmodels.regression.linear_model.Regressio...   \n",
       "\n",
       "            number_of_predictors  \\\n",
       "bic                            9   \n",
       "aic                           13   \n",
       "adj_rsquare                    9   \n",
       "\n",
       "                                            name_of_predictors  \\\n",
       "bic          [endpoint1, sex endpoint1, endpoint2, dose end...   \n",
       "aic          [endpoint1, sex endpoint1, endpoint2, dose end...   \n",
       "adj_rsquare  [endpoint1, sex endpoint1, endpoint2, dose end...   \n",
       "\n",
       "                                                        Y_pred      aic  \\\n",
       "bic          0     569.095916\n",
       "1     550.362977\n",
       "2     532.44...  117.533   \n",
       "aic          0     570.400000\n",
       "1     548.500000\n",
       "2     533.00...   113.46   \n",
       "adj_rsquare  0     569.095916\n",
       "1     550.362977\n",
       "2     532.44...  117.533   \n",
       "\n",
       "                 bic      mse adj_rsquare  \n",
       "bic          128.136  65034.3    0.999909  \n",
       "aic          128.775    40512    0.999879  \n",
       "adj_rsquare  128.136  65034.3    0.999909  "
      ]
     },
     "execution_count": 4,
     "metadata": {},
     "output_type": "execute_result"
    }
   ],
   "source": [
    "best_models = pd.read_pickle(\"./best_models_all.pkl\")\n",
    "best_models"
   ]
  },
  {
   "cell_type": "code",
   "execution_count": 7,
   "metadata": {
    "pycharm": {
     "name": "#%%\n"
    }
   },
   "outputs": [],
   "source": [
    "model = best_models.loc[\"bic\"]"
   ]
  },
  {
   "cell_type": "code",
   "execution_count": 17,
   "metadata": {
    "pycharm": {
     "name": "#%%\n"
    }
   },
   "outputs": [
    {
     "ename": "AttributeError",
     "evalue": "'WLS' object has no attribute 'model'",
     "output_type": "error",
     "traceback": [
      "\u001b[1;31m---------------------------------------------------------------------------\u001b[0m",
      "\u001b[1;31mAttributeError\u001b[0m                            Traceback (most recent call last)",
      "\u001b[1;32m<ipython-input-17-ed222aa6e2bf>\u001b[0m in \u001b[0;36m<module>\u001b[1;34m\u001b[0m\n\u001b[1;32m----> 1\u001b[1;33m \u001b[0mwrapper\u001b[0m \u001b[1;33m=\u001b[0m \u001b[0mmodel\u001b[0m\u001b[1;33m.\u001b[0m\u001b[0mmodel\u001b[0m\u001b[1;33m\u001b[0m\u001b[1;33m\u001b[0m\u001b[0m\n\u001b[0m\u001b[0;32m      2\u001b[0m \u001b[0mwrapper\u001b[0m\u001b[1;33m\u001b[0m\u001b[1;33m\u001b[0m\u001b[0m\n",
      "\u001b[1;31mAttributeError\u001b[0m: 'WLS' object has no attribute 'model'"
     ]
    }
   ],
   "source": [
    "wrapper = model.model"
   ]
  },
  {
   "cell_type": "code",
   "execution_count": 11,
   "metadata": {
    "pycharm": {
     "name": "#%%\n"
    }
   },
   "outputs": [],
   "source": [
    "model = wrapper.model"
   ]
  },
  {
   "cell_type": "code",
   "execution_count": 19,
   "metadata": {
    "pycharm": {
     "name": "#%%\n"
    }
   },
   "outputs": [
    {
     "name": "stdout",
     "output_type": "stream",
     "text": [
      "[[1.000e+00 0.000e+00 0.000e+00 0.000e+00 9.000e+00 0.000e+00 0.000e+00\n",
      "  0.000e+00 0.000e+00]\n",
      " [1.000e+00 0.000e+00 0.000e+00 3.000e+01 1.000e+01 0.000e+00 3.000e+02\n",
      "  9.000e+02 3.000e+03]\n",
      " [1.000e+00 0.000e+00 0.000e+00 1.000e+02 1.000e+01 0.000e+00 1.000e+03\n",
      "  1.000e+04 1.000e+04]\n",
      " [1.000e+00 0.000e+00 0.000e+00 1.500e+02 9.000e+00 0.000e+00 1.350e+03\n",
      "  2.250e+04 1.215e+04]\n",
      " [1.000e+00 1.000e+00 0.000e+00 0.000e+00 1.000e+01 0.000e+00 0.000e+00\n",
      "  0.000e+00 0.000e+00]\n",
      " [1.000e+00 1.000e+00 0.000e+00 3.000e+01 1.000e+01 3.000e+01 3.000e+02\n",
      "  9.000e+02 3.000e+03]\n",
      " [1.000e+00 1.000e+00 0.000e+00 1.000e+02 1.000e+01 1.000e+02 1.000e+03\n",
      "  1.000e+04 1.000e+04]\n",
      " [1.000e+00 1.000e+00 0.000e+00 1.500e+02 1.000e+01 1.500e+02 1.500e+03\n",
      "  2.250e+04 1.500e+04]\n",
      " [0.000e+00 0.000e+00 1.000e+00 0.000e+00 9.000e+00 0.000e+00 0.000e+00\n",
      "  0.000e+00 0.000e+00]\n",
      " [0.000e+00 0.000e+00 1.000e+00 0.000e+00 1.000e+01 0.000e+00 0.000e+00\n",
      "  0.000e+00 3.000e+03]\n",
      " [0.000e+00 0.000e+00 1.000e+00 0.000e+00 1.000e+01 0.000e+00 0.000e+00\n",
      "  0.000e+00 1.000e+04]\n",
      " [0.000e+00 0.000e+00 1.000e+00 0.000e+00 9.000e+00 0.000e+00 0.000e+00\n",
      "  0.000e+00 1.215e+04]\n",
      " [0.000e+00 0.000e+00 1.000e+00 0.000e+00 1.000e+01 0.000e+00 0.000e+00\n",
      "  0.000e+00 0.000e+00]\n",
      " [0.000e+00 0.000e+00 1.000e+00 0.000e+00 1.000e+01 0.000e+00 0.000e+00\n",
      "  0.000e+00 3.000e+03]\n",
      " [0.000e+00 0.000e+00 1.000e+00 0.000e+00 1.000e+01 0.000e+00 0.000e+00\n",
      "  0.000e+00 1.000e+04]\n",
      " [0.000e+00 0.000e+00 1.000e+00 0.000e+00 1.000e+01 0.000e+00 0.000e+00\n",
      "  0.000e+00 1.500e+04]\n",
      " [0.000e+00 0.000e+00 0.000e+00 0.000e+00 9.000e+00 0.000e+00 0.000e+00\n",
      "  0.000e+00 0.000e+00]\n",
      " [0.000e+00 0.000e+00 0.000e+00 0.000e+00 1.000e+01 0.000e+00 0.000e+00\n",
      "  0.000e+00 3.000e+03]\n",
      " [0.000e+00 0.000e+00 0.000e+00 0.000e+00 1.000e+01 0.000e+00 0.000e+00\n",
      "  0.000e+00 1.000e+04]\n",
      " [0.000e+00 0.000e+00 0.000e+00 0.000e+00 9.000e+00 0.000e+00 0.000e+00\n",
      "  0.000e+00 1.215e+04]\n",
      " [0.000e+00 0.000e+00 0.000e+00 0.000e+00 1.000e+01 0.000e+00 0.000e+00\n",
      "  0.000e+00 0.000e+00]\n",
      " [0.000e+00 0.000e+00 0.000e+00 0.000e+00 1.000e+01 0.000e+00 0.000e+00\n",
      "  0.000e+00 3.000e+03]\n",
      " [0.000e+00 0.000e+00 0.000e+00 0.000e+00 1.000e+01 0.000e+00 0.000e+00\n",
      "  0.000e+00 1.000e+04]\n",
      " [0.000e+00 0.000e+00 0.000e+00 0.000e+00 1.000e+01 0.000e+00 0.000e+00\n",
      "  0.000e+00 1.500e+04]]\n"
     ]
    }
   ],
   "source": [
    "X = model.exog\n",
    "print(X)"
   ]
  },
  {
   "cell_type": "code",
   "execution_count": 20,
   "metadata": {
    "pycharm": {
     "name": "#%%\n"
    }
   },
   "outputs": [
    {
     "name": "stdout",
     "output_type": "stream",
     "text": [
      "            0           1           2\n",
      "0  569.095916  562.273425  575.918408\n",
      "1  550.362977  544.121921  556.604032\n",
      "2  532.441107  525.195161  539.687053\n",
      "3  488.100000  480.762144  495.437856\n",
      "4  333.540697  326.566016  340.515378\n"
     ]
    }
   ],
   "source": [
    "dt = wrapper.get_prediction(X).summary_frame(alpha= 0.05)\n",
    "y_prd = dt['mean']\n",
    "yprd_ci_lower = dt['obs_ci_lower']\n",
    "yprd_ci_upper = dt['obs_ci_upper']\n",
    "print(pd.DataFrame(np.column_stack([y_prd, yprd_ci_lower, yprd_ci_upper])).head())\n"
   ]
  },
  {
   "cell_type": "code",
   "execution_count": 23,
   "metadata": {
    "pycharm": {
     "name": "#%%\n"
    }
   },
   "outputs": [
    {
     "data": {
      "image/png": "[encoded data removed]",
      "text/plain": [
       "<Figure size 720x576 with 1 Axes>"
      ]
     },
     "metadata": {
      "needs_background": "light"
     },
     "output_type": "display_data"
    }
   ],
   "source": [
    "ym_ci_lower = dt['mean_ci_lower']\n",
    "ym_ci_upper = dt['mean_ci_upper']\n",
    "_ = plt.figure(num = 2, figsize=(10, 8))\n",
    "_ = plt.plot(np.linspace(start=1,stop=len(ym_ci_lower), num=len(ym_ci_lower)), ym_ci_lower, color = \"darkgreen\", linestyle = \"--\",\n",
    "         label = \"Confidence Interval\")\n",
    "_ = plt.plot(np.linspace(start=1, stop=len(ym_ci_lower), num=len(ym_ci_lower)), ym_ci_upper, color = \"darkgreen\", linestyle = \"--\")\n",
    "_ = plt.legend()\n",
    "plt.show()"
   ]
  },
  {
   "cell_type": "markdown",
   "metadata": {
    "pycharm": {
     "name": "#%% md\n"
    }
   },
   "source": [
    "### La parte da copiare è questa qua sotto"
   ]
  },
  {
   "cell_type": "code",
   "execution_count": 1,
   "metadata": {
    "ExecuteTime": {
     "end_time": "2020-12-12T16:21:06.189442Z",
     "start_time": "2020-12-12T16:20:56.419431Z"
    }
   },
   "outputs": [],
   "source": [
    "import funzioni as fn"
   ]
  },
  {
   "cell_type": "code",
   "execution_count": 5,
   "metadata": {
    "ExecuteTime": {
     "end_time": "2020-12-12T16:21:39.952294Z",
     "start_time": "2020-12-12T16:21:39.934450Z"
    },
    "pycharm": {
     "name": "#%%\n"
    }
   },
   "outputs": [
    {
     "name": "stdout",
     "output_type": "stream",
     "text": [
      "Cucinaaa!\n"
     ]
    }
   ],
   "source": [
    "model = best_models.loc[\"bic\"]\n",
    "wrapper = model.model\n",
    "response= wrapper.response\n",
    "fn.plot_response_over_prediction(response, prediction, title=\"Graph\", figsize=(12, 8), wrapper=None)\n"
   ]
  },
  {
   "cell_type": "code",
   "execution_count": null,
   "metadata": {
    "pycharm": {
     "name": "#%%\n"
    }
   },
   "outputs": [],
   "source": []
  }
 ],
 "metadata": {
  "hide_input": false,
  "kernelspec": {
   "display_name": "PyCharm (JupyterScripts)",
   "language": "python",
   "name": "pycharm-6b402344"
  },
  "language_info": {
   "codemirror_mode": {
    "name": "ipython",
    "version": 3
   },
   "file_extension": ".py",
   "mimetype": "text/x-python",
   "name": "python",
   "nbconvert_exporter": "python",
   "pygments_lexer": "ipython3",
   "version": "3.7.6"
  },
  "toc": {
   "base_numbering": 1,
   "nav_menu": {},
   "number_sections": true,
   "sideBar": true,
   "skip_h1_title": false,
   "title_cell": "Table of Contents",
   "title_sidebar": "Contents",
   "toc_cell": false,
   "toc_position": {},
   "toc_section_display": true,
   "toc_window_display": true
  },
  "varInspector": {
   "cols": {
    "lenName": 16,
    "lenType": 16,
    "lenVar": 40
   },
   "kernels_config": {
    "python": {
     "delete_cmd_postfix": "",
     "delete_cmd_prefix": "del ",
     "library": "var_list.py",
     "varRefreshCmd": "print(var_dic_list())"
    },
    "r": {
     "delete_cmd_postfix": ") ",
     "delete_cmd_prefix": "rm(",
     "library": "var_list.r",
     "varRefreshCmd": "cat(var_dic_list()) "
    }
   },
   "types_to_exclude": [
    "module",
    "function",
    "builtin_function_or_method",
    "instance",
    "_Feature"
   ],
   "window_display": false
  }
 },
 "nbformat": 4,
 "nbformat_minor": 1
}
