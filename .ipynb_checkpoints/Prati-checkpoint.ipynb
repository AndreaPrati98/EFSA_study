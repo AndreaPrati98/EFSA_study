{
 "cells": [
  {
   "cell_type": "markdown",
   "metadata": {},
   "source": [
    "# Forward selection"
   ]
  },
  {
   "cell_type": "code",
   "execution_count": 5,
   "metadata": {},
   "outputs": [],
   "source": [
    "import numpy as np\n",
    "import pandas as pd\n",
    "import matplotlib.pyplot as plt\n",
    "import scipy\n",
    "import sklearn\n",
    "import seaborn as sns\n",
    "import xlrd\n",
    "import time\n",
    "import statsmodels.api as sm\n",
    "from sklearn.preprocessing import PolynomialFeatures"
   ]
  },
  {
   "cell_type": "code",
   "execution_count": 6,
   "metadata": {
    "scrolled": false
   },
   "outputs": [
    {
     "data": {
      "text/html": [
       "<div>\n",
       "<style scoped>\n",
       "    .dataframe tbody tr th:only-of-type {\n",
       "        vertical-align: middle;\n",
       "    }\n",
       "\n",
       "    .dataframe tbody tr th {\n",
       "        vertical-align: top;\n",
       "    }\n",
       "\n",
       "    .dataframe thead th {\n",
       "        text-align: right;\n",
       "    }\n",
       "</style>\n",
       "<table border=\"1\" class=\"dataframe\">\n",
       "  <thead>\n",
       "    <tr style=\"text-align: right;\">\n",
       "      <th></th>\n",
       "      <th>response</th>\n",
       "      <th>number of animals</th>\n",
       "      <th>SD</th>\n",
       "      <th>dose</th>\n",
       "      <th>sex</th>\n",
       "      <th>endpoint</th>\n",
       "    </tr>\n",
       "  </thead>\n",
       "  <tbody>\n",
       "    <tr>\n",
       "      <th>0</th>\n",
       "      <td>570.4</td>\n",
       "      <td>9</td>\n",
       "      <td>75.6</td>\n",
       "      <td>0</td>\n",
       "      <td>0</td>\n",
       "      <td>1</td>\n",
       "    </tr>\n",
       "    <tr>\n",
       "      <th>1</th>\n",
       "      <td>548.5</td>\n",
       "      <td>10</td>\n",
       "      <td>44.3</td>\n",
       "      <td>30</td>\n",
       "      <td>0</td>\n",
       "      <td>1</td>\n",
       "    </tr>\n",
       "    <tr>\n",
       "      <th>2</th>\n",
       "      <td>533.0</td>\n",
       "      <td>10</td>\n",
       "      <td>72.3</td>\n",
       "      <td>100</td>\n",
       "      <td>0</td>\n",
       "      <td>1</td>\n",
       "    </tr>\n",
       "    <tr>\n",
       "      <th>3</th>\n",
       "      <td>488.1</td>\n",
       "      <td>9</td>\n",
       "      <td>42.5</td>\n",
       "      <td>150</td>\n",
       "      <td>0</td>\n",
       "      <td>1</td>\n",
       "    </tr>\n",
       "    <tr>\n",
       "      <th>4</th>\n",
       "      <td>329.8</td>\n",
       "      <td>10</td>\n",
       "      <td>46.8</td>\n",
       "      <td>0</td>\n",
       "      <td>1</td>\n",
       "      <td>1</td>\n",
       "    </tr>\n",
       "    <tr>\n",
       "      <th>5</th>\n",
       "      <td>319.7</td>\n",
       "      <td>10</td>\n",
       "      <td>24.3</td>\n",
       "      <td>30</td>\n",
       "      <td>1</td>\n",
       "      <td>1</td>\n",
       "    </tr>\n",
       "    <tr>\n",
       "      <th>6</th>\n",
       "      <td>293.3</td>\n",
       "      <td>10</td>\n",
       "      <td>20.1</td>\n",
       "      <td>100</td>\n",
       "      <td>1</td>\n",
       "      <td>1</td>\n",
       "    </tr>\n",
       "    <tr>\n",
       "      <th>7</th>\n",
       "      <td>312.4</td>\n",
       "      <td>10</td>\n",
       "      <td>43.1</td>\n",
       "      <td>150</td>\n",
       "      <td>1</td>\n",
       "      <td>1</td>\n",
       "    </tr>\n",
       "    <tr>\n",
       "      <th>8</th>\n",
       "      <td>45.2</td>\n",
       "      <td>9</td>\n",
       "      <td>1.5</td>\n",
       "      <td>0</td>\n",
       "      <td>0</td>\n",
       "      <td>2</td>\n",
       "    </tr>\n",
       "    <tr>\n",
       "      <th>9</th>\n",
       "      <td>44.6</td>\n",
       "      <td>10</td>\n",
       "      <td>1.7</td>\n",
       "      <td>30</td>\n",
       "      <td>0</td>\n",
       "      <td>2</td>\n",
       "    </tr>\n",
       "    <tr>\n",
       "      <th>10</th>\n",
       "      <td>43.0</td>\n",
       "      <td>10</td>\n",
       "      <td>3.8</td>\n",
       "      <td>100</td>\n",
       "      <td>0</td>\n",
       "      <td>2</td>\n",
       "    </tr>\n",
       "    <tr>\n",
       "      <th>11</th>\n",
       "      <td>42.8</td>\n",
       "      <td>9</td>\n",
       "      <td>1.7</td>\n",
       "      <td>150</td>\n",
       "      <td>0</td>\n",
       "      <td>2</td>\n",
       "    </tr>\n",
       "    <tr>\n",
       "      <th>12</th>\n",
       "      <td>44.7</td>\n",
       "      <td>10</td>\n",
       "      <td>1.3</td>\n",
       "      <td>0</td>\n",
       "      <td>1</td>\n",
       "      <td>2</td>\n",
       "    </tr>\n",
       "    <tr>\n",
       "      <th>13</th>\n",
       "      <td>44.1</td>\n",
       "      <td>10</td>\n",
       "      <td>1.6</td>\n",
       "      <td>30</td>\n",
       "      <td>1</td>\n",
       "      <td>2</td>\n",
       "    </tr>\n",
       "    <tr>\n",
       "      <th>14</th>\n",
       "      <td>41.5</td>\n",
       "      <td>10</td>\n",
       "      <td>1.6</td>\n",
       "      <td>100</td>\n",
       "      <td>1</td>\n",
       "      <td>2</td>\n",
       "    </tr>\n",
       "    <tr>\n",
       "      <th>15</th>\n",
       "      <td>42.1</td>\n",
       "      <td>10</td>\n",
       "      <td>1.2</td>\n",
       "      <td>150</td>\n",
       "      <td>1</td>\n",
       "      <td>2</td>\n",
       "    </tr>\n",
       "    <tr>\n",
       "      <th>16</th>\n",
       "      <td>18.3</td>\n",
       "      <td>9</td>\n",
       "      <td>0.5</td>\n",
       "      <td>0</td>\n",
       "      <td>0</td>\n",
       "      <td>3</td>\n",
       "    </tr>\n",
       "    <tr>\n",
       "      <th>17</th>\n",
       "      <td>17.9</td>\n",
       "      <td>10</td>\n",
       "      <td>0.5</td>\n",
       "      <td>30</td>\n",
       "      <td>0</td>\n",
       "      <td>3</td>\n",
       "    </tr>\n",
       "    <tr>\n",
       "      <th>18</th>\n",
       "      <td>16.5</td>\n",
       "      <td>10</td>\n",
       "      <td>0.6</td>\n",
       "      <td>100</td>\n",
       "      <td>0</td>\n",
       "      <td>3</td>\n",
       "    </tr>\n",
       "    <tr>\n",
       "      <th>19</th>\n",
       "      <td>16.3</td>\n",
       "      <td>9</td>\n",
       "      <td>0.8</td>\n",
       "      <td>150</td>\n",
       "      <td>0</td>\n",
       "      <td>3</td>\n",
       "    </tr>\n",
       "    <tr>\n",
       "      <th>20</th>\n",
       "      <td>19.1</td>\n",
       "      <td>10</td>\n",
       "      <td>0.5</td>\n",
       "      <td>0</td>\n",
       "      <td>1</td>\n",
       "      <td>3</td>\n",
       "    </tr>\n",
       "    <tr>\n",
       "      <th>21</th>\n",
       "      <td>19.0</td>\n",
       "      <td>10</td>\n",
       "      <td>0.4</td>\n",
       "      <td>30</td>\n",
       "      <td>1</td>\n",
       "      <td>3</td>\n",
       "    </tr>\n",
       "    <tr>\n",
       "      <th>22</th>\n",
       "      <td>17.9</td>\n",
       "      <td>10</td>\n",
       "      <td>0.5</td>\n",
       "      <td>100</td>\n",
       "      <td>1</td>\n",
       "      <td>3</td>\n",
       "    </tr>\n",
       "    <tr>\n",
       "      <th>23</th>\n",
       "      <td>17.3</td>\n",
       "      <td>10</td>\n",
       "      <td>0.6</td>\n",
       "      <td>150</td>\n",
       "      <td>1</td>\n",
       "      <td>3</td>\n",
       "    </tr>\n",
       "  </tbody>\n",
       "</table>\n",
       "</div>"
      ],
      "text/plain": [
       "    response  number of animals    SD  dose  sex  endpoint\n",
       "0      570.4                  9  75.6     0    0         1\n",
       "1      548.5                 10  44.3    30    0         1\n",
       "2      533.0                 10  72.3   100    0         1\n",
       "3      488.1                  9  42.5   150    0         1\n",
       "4      329.8                 10  46.8     0    1         1\n",
       "5      319.7                 10  24.3    30    1         1\n",
       "6      293.3                 10  20.1   100    1         1\n",
       "7      312.4                 10  43.1   150    1         1\n",
       "8       45.2                  9   1.5     0    0         2\n",
       "9       44.6                 10   1.7    30    0         2\n",
       "10      43.0                 10   3.8   100    0         2\n",
       "11      42.8                  9   1.7   150    0         2\n",
       "12      44.7                 10   1.3     0    1         2\n",
       "13      44.1                 10   1.6    30    1         2\n",
       "14      41.5                 10   1.6   100    1         2\n",
       "15      42.1                 10   1.2   150    1         2\n",
       "16      18.3                  9   0.5     0    0         3\n",
       "17      17.9                 10   0.5    30    0         3\n",
       "18      16.5                 10   0.6   100    0         3\n",
       "19      16.3                  9   0.8   150    0         3\n",
       "20      19.1                 10   0.5     0    1         3\n",
       "21      19.0                 10   0.4    30    1         3\n",
       "22      17.9                 10   0.5   100    1         3\n",
       "23      17.3                 10   0.6   150    1         3"
      ]
     },
     "execution_count": 6,
     "metadata": {},
     "output_type": "execute_result"
    }
   ],
   "source": [
    "data=pd.read_excel('Data/Mini Project EFSA.xlsx')\n",
    "data.rename(columns={'sex \\n(0=M, 1=F)':'sex'}, inplace=True)\n",
    "data"
   ]
  },
  {
   "cell_type": "markdown",
   "metadata": {},
   "source": [
    "# Forward selection"
   ]
  },
  {
   "cell_type": "code",
   "execution_count": 7,
   "metadata": {},
   "outputs": [],
   "source": [
    "import funzioni as fn\n",
    "data_Endpoint1 = data[data.endpoint == 1]\n",
    "data_Endpoint2 = data[data.endpoint == 2]\n",
    "data_Endpoint3 = data[data.endpoint == 3]"
   ]
  },
  {
   "cell_type": "markdown",
   "metadata": {},
   "source": [
    "## Forward selection endpoint1 "
   ]
  },
  {
   "cell_type": "code",
   "execution_count": 8,
   "metadata": {},
   "outputs": [
    {
     "name": "stdout",
     "output_type": "stream",
     "text": [
      "Processed  3 models on 1 predictors in 0.03697800636291504 seconds.\n",
      "Processed  2 models on 2 predictors in 0.006997585296630859 seconds.\n",
      "Processed  1 models on 3 predictors in 0.005011320114135742 seconds.\n",
      "Total elapsed time: 0.07095956802368164 seconds.\n"
     ]
    },
    {
     "data": {
      "text/html": [
       "<div>\n",
       "<style scoped>\n",
       "    .dataframe tbody tr th:only-of-type {\n",
       "        vertical-align: middle;\n",
       "    }\n",
       "\n",
       "    .dataframe tbody tr th {\n",
       "        vertical-align: top;\n",
       "    }\n",
       "\n",
       "    .dataframe thead th {\n",
       "        text-align: right;\n",
       "    }\n",
       "</style>\n",
       "<table border=\"1\" class=\"dataframe\">\n",
       "  <thead>\n",
       "    <tr style=\"text-align: right;\">\n",
       "      <th></th>\n",
       "      <th>RSS</th>\n",
       "      <th>model</th>\n",
       "      <th>number_of_predictors</th>\n",
       "      <th>name_of_predictors</th>\n",
       "    </tr>\n",
       "  </thead>\n",
       "  <tbody>\n",
       "    <tr>\n",
       "      <th>1</th>\n",
       "      <td>123209.466339</td>\n",
       "      <td>&lt;statsmodels.regression.linear_model.Regressio...</td>\n",
       "      <td>1</td>\n",
       "      <td>[number of animals]</td>\n",
       "    </tr>\n",
       "    <tr>\n",
       "      <th>2</th>\n",
       "      <td>6222.696768</td>\n",
       "      <td>&lt;statsmodels.regression.linear_model.Regressio...</td>\n",
       "      <td>2</td>\n",
       "      <td>[number of animals, sex]</td>\n",
       "    </tr>\n",
       "    <tr>\n",
       "      <th>3</th>\n",
       "      <td>3908.060536</td>\n",
       "      <td>&lt;statsmodels.regression.linear_model.Regressio...</td>\n",
       "      <td>3</td>\n",
       "      <td>[number of animals, sex, dose]</td>\n",
       "    </tr>\n",
       "  </tbody>\n",
       "</table>\n",
       "</div>"
      ],
      "text/plain": [
       "             RSS                                              model  \\\n",
       "1  123209.466339  <statsmodels.regression.linear_model.Regressio...   \n",
       "2    6222.696768  <statsmodels.regression.linear_model.Regressio...   \n",
       "3    3908.060536  <statsmodels.regression.linear_model.Regressio...   \n",
       "\n",
       "  number_of_predictors             name_of_predictors   \n",
       "1                    1             [number of animals]  \n",
       "2                    2        [number of animals, sex]  \n",
       "3                    3  [number of animals, sex, dose]  "
      ]
     },
     "metadata": {},
     "output_type": "display_data"
    }
   ],
   "source": [
    "Y = data_Endpoint1.response\n",
    "weights = data.SD\n",
    "X = data_Endpoint1.drop(columns=[\"response\", \"SD\", \"endpoint\"])\n",
    "group_of_models_endpoint1 = fn.mainForward(X, Y, weights)\n",
    "display(group_of_models_endpoint1)"
   ]
  },
  {
   "cell_type": "code",
   "execution_count": 9,
   "metadata": {},
   "outputs": [
    {
     "data": {
      "image/png": "[encoded data removed]",
      "text/plain": [
       "<Figure size 432x288 with 1 Axes>"
      ]
     },
     "metadata": {
      "needs_background": "light"
     },
     "output_type": "display_data"
    },
    {
     "data": {
      "image/png": "[encoded data removed]",
      "text/plain": [
       "<Figure size 432x288 with 1 Axes>"
      ]
     },
     "metadata": {
      "needs_background": "light"
     },
     "output_type": "display_data"
    }
   ],
   "source": [
    "model1 = group_of_models_endpoint1[\"model\"][1]\n",
    "\n",
    "group_of_models_endpoint1.plot(x = 'number_of_predictors', y = 'RSS')\n",
    "\n",
    "fig, ax = plt.subplots()\n",
    "fig = sm.graphics.plot_fit(model1, 0, ax=ax)"
   ]
  },
  {
   "cell_type": "markdown",
   "metadata": {},
   "source": [
    "### AIC, BIC, MSE e ADJ_RSQUARE endpoint1"
   ]
  },
  {
   "cell_type": "code",
   "execution_count": 10,
   "metadata": {},
   "outputs": [
    {
     "ename": "SyntaxError",
     "evalue": "invalid syntax (<ipython-input-10-8def104a81db>, line 1)",
     "output_type": "error",
     "traceback": [
      "\u001b[1;36m  File \u001b[1;32m\"<ipython-input-10-8def104a81db>\"\u001b[1;36m, line \u001b[1;32m1\u001b[0m\n\u001b[1;33m    def compute_criteria(group_of_models)\u001b[0m\n\u001b[1;37m                                         ^\u001b[0m\n\u001b[1;31mSyntaxError\u001b[0m\u001b[1;31m:\u001b[0m invalid syntax\n"
     ]
    }
   ],
   "source": [
    "group_of_models_endpoint1 = fn.compute_criteria(group_of_models_endpoint1)\n",
    "group_of_models_endpoint1"
   ]
  },
  {
   "cell_type": "markdown",
   "metadata": {},
   "source": [
    "## Forward selection endpoint2"
   ]
  },
  {
   "cell_type": "code",
   "execution_count": 18,
   "metadata": {},
   "outputs": [
    {
     "name": "stdout",
     "output_type": "stream",
     "text": [
      "Processed  3 models on 1 predictors in 0.019989967346191406 seconds.\n",
      "Processed  2 models on 2 predictors in 0.010991334915161133 seconds.\n",
      "Processed  1 models on 3 predictors in 0.006016731262207031 seconds.\n",
      "Total elapsed time: 0.05896615982055664 seconds.\n"
     ]
    },
    {
     "data": {
      "text/html": [
       "<div>\n",
       "<style scoped>\n",
       "    .dataframe tbody tr th:only-of-type {\n",
       "        vertical-align: middle;\n",
       "    }\n",
       "\n",
       "    .dataframe tbody tr th {\n",
       "        vertical-align: top;\n",
       "    }\n",
       "\n",
       "    .dataframe thead th {\n",
       "        text-align: right;\n",
       "    }\n",
       "</style>\n",
       "<table border=\"1\" class=\"dataframe\">\n",
       "  <thead>\n",
       "    <tr style=\"text-align: right;\">\n",
       "      <th></th>\n",
       "      <th>RSS</th>\n",
       "      <th>model</th>\n",
       "      <th>number_of_predictors</th>\n",
       "      <th>name_of_predictors</th>\n",
       "    </tr>\n",
       "  </thead>\n",
       "  <tbody>\n",
       "    <tr>\n",
       "      <th>1</th>\n",
       "      <td>51.303412</td>\n",
       "      <td>&lt;statsmodels.regression.linear_model.Regressio...</td>\n",
       "      <td>1</td>\n",
       "      <td>[number of animals]</td>\n",
       "    </tr>\n",
       "    <tr>\n",
       "      <th>2</th>\n",
       "      <td>34.458343</td>\n",
       "      <td>&lt;statsmodels.regression.linear_model.Regressio...</td>\n",
       "      <td>2</td>\n",
       "      <td>[number of animals, sex]</td>\n",
       "    </tr>\n",
       "    <tr>\n",
       "      <th>3</th>\n",
       "      <td>27.729987</td>\n",
       "      <td>&lt;statsmodels.regression.linear_model.Regressio...</td>\n",
       "      <td>3</td>\n",
       "      <td>[number of animals, sex, dose]</td>\n",
       "    </tr>\n",
       "  </tbody>\n",
       "</table>\n",
       "</div>"
      ],
      "text/plain": [
       "         RSS                                              model  \\\n",
       "1  51.303412  <statsmodels.regression.linear_model.Regressio...   \n",
       "2  34.458343  <statsmodels.regression.linear_model.Regressio...   \n",
       "3  27.729987  <statsmodels.regression.linear_model.Regressio...   \n",
       "\n",
       "  number_of_predictors             name_of_predictors   \n",
       "1                    1             [number of animals]  \n",
       "2                    2        [number of animals, sex]  \n",
       "3                    3  [number of animals, sex, dose]  "
      ]
     },
     "metadata": {},
     "output_type": "display_data"
    }
   ],
   "source": [
    "Y = data_Endpoint2.response\n",
    "weights = data.SD\n",
    "X = data_Endpoint2.drop(columns=[\"response\", \"SD\", \"endpoint\"])\n",
    "group_of_models_endpoint2 = fn.mainForward(X, Y, weights)\n",
    "display(group_of_models_endpoint2)"
   ]
  },
  {
   "cell_type": "markdown",
   "metadata": {},
   "source": [
    "### AIC, BIC, MSE e ADJ_RSQUARE endpoint2"
   ]
  },
  {
   "cell_type": "markdown",
   "metadata": {},
   "source": [
    "## Forward selection endpoint3"
   ]
  },
  {
   "cell_type": "code",
   "execution_count": 19,
   "metadata": {},
   "outputs": [
    {
     "name": "stdout",
     "output_type": "stream",
     "text": [
      "Processed  3 models on 1 predictors in 0.01699209213256836 seconds.\n",
      "Processed  2 models on 2 predictors in 0.01017308235168457 seconds.\n",
      "Processed  1 models on 3 predictors in 0.0049953460693359375 seconds.\n",
      "Total elapsed time: 0.05214953422546387 seconds.\n"
     ]
    },
    {
     "data": {
      "text/html": [
       "<div>\n",
       "<style scoped>\n",
       "    .dataframe tbody tr th:only-of-type {\n",
       "        vertical-align: middle;\n",
       "    }\n",
       "\n",
       "    .dataframe tbody tr th {\n",
       "        vertical-align: top;\n",
       "    }\n",
       "\n",
       "    .dataframe thead th {\n",
       "        text-align: right;\n",
       "    }\n",
       "</style>\n",
       "<table border=\"1\" class=\"dataframe\">\n",
       "  <thead>\n",
       "    <tr style=\"text-align: right;\">\n",
       "      <th></th>\n",
       "      <th>RSS</th>\n",
       "      <th>model</th>\n",
       "      <th>number_of_predictors</th>\n",
       "      <th>name_of_predictors</th>\n",
       "    </tr>\n",
       "  </thead>\n",
       "  <tbody>\n",
       "    <tr>\n",
       "      <th>1</th>\n",
       "      <td>9.019606</td>\n",
       "      <td>&lt;statsmodels.regression.linear_model.Regressio...</td>\n",
       "      <td>1</td>\n",
       "      <td>[number of animals]</td>\n",
       "    </tr>\n",
       "    <tr>\n",
       "      <th>2</th>\n",
       "      <td>4.786838</td>\n",
       "      <td>&lt;statsmodels.regression.linear_model.Regressio...</td>\n",
       "      <td>2</td>\n",
       "      <td>[number of animals, dose]</td>\n",
       "    </tr>\n",
       "    <tr>\n",
       "      <th>3</th>\n",
       "      <td>4.724882</td>\n",
       "      <td>&lt;statsmodels.regression.linear_model.Regressio...</td>\n",
       "      <td>3</td>\n",
       "      <td>[number of animals, dose, sex]</td>\n",
       "    </tr>\n",
       "  </tbody>\n",
       "</table>\n",
       "</div>"
      ],
      "text/plain": [
       "        RSS                                              model  \\\n",
       "1  9.019606  <statsmodels.regression.linear_model.Regressio...   \n",
       "2  4.786838  <statsmodels.regression.linear_model.Regressio...   \n",
       "3  4.724882  <statsmodels.regression.linear_model.Regressio...   \n",
       "\n",
       "  number_of_predictors             name_of_predictors   \n",
       "1                    1             [number of animals]  \n",
       "2                    2       [number of animals, dose]  \n",
       "3                    3  [number of animals, dose, sex]  "
      ]
     },
     "metadata": {},
     "output_type": "display_data"
    }
   ],
   "source": [
    "Y = data_Endpoint3.response\n",
    "weights = data.SD\n",
    "X = data_Endpoint3.drop(columns=[\"response\", \"SD\", \"endpoint\"])\n",
    "group_of_models_endpoint3 = fn.mainForward(X, Y, weights)\n",
    "display(group_of_models_endpoint3)"
   ]
  },
  {
   "cell_type": "markdown",
   "metadata": {},
   "source": [
    "### AIC, BIC, MSE e ADJ_RSQUARE endpoint3"
   ]
  },
  {
   "cell_type": "markdown",
   "metadata": {},
   "source": [
    "## Backward selection"
   ]
  },
  {
   "cell_type": "code",
   "execution_count": null,
   "metadata": {},
   "outputs": [],
   "source": []
  }
 ],
 "metadata": {
  "kernelspec": {
   "display_name": "Python 3",
   "language": "python",
   "name": "python3"
  },
  "language_info": {
   "codemirror_mode": {
    "name": "ipython",
    "version": 3
   },
   "file_extension": ".py",
   "mimetype": "text/x-python",
   "name": "python",
   "nbconvert_exporter": "python",
   "pygments_lexer": "ipython3",
   "version": "3.7.6"
  }
 },
 "nbformat": 4,
 "nbformat_minor": 4
}
