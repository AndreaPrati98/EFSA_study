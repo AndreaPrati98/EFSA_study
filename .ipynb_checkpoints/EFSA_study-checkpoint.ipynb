{
 "cells": [
  {
   "cell_type": "markdown",
   "metadata": {},
   "source": [
    "# EFSA_study\n",
    "## A hypothetical toxicological in-vivo experiment\n",
    "\n",
    "_Gugliemo Cassini, Alessandro Capici e Andrea Prati_\n",
    "\n",
    "\n",
    "### Problem presentation\n",
    "A substance X was adiministered to laboratory animals and three endopoint (1, 2 and 3) were measured. Eight groups of animals were tested, 4 groups of males and 4 groups of females.\n",
    "\n",
    "For each gender, one group was used as a control and each remaining group received one of three doses of substance X (30 mg/kg, 100 mg/kg and 150 mg/kg, administered to each animal daily).\n",
    "### The goal\n",
    "It is requested to propose an appropriate statistical model and to analyse these data."
   ]
  },
  {
   "cell_type": "code",
   "execution_count": null,
   "metadata": {},
   "outputs": [],
   "source": [
    "A substance X was adiministered to laboratory animals and three endopoint (1, 2 and 3)"
   ]
  }
 ],
 "metadata": {
  "kernelspec": {
   "display_name": "Python 3",
   "language": "python",
   "name": "python3"
  },
  "language_info": {
   "codemirror_mode": {
    "name": "ipython",
    "version": 3
   },
   "file_extension": ".py",
   "mimetype": "text/x-python",
   "name": "python",
   "nbconvert_exporter": "python",
   "pygments_lexer": "ipython3",
   "version": "3.7.6"
  }
 },
 "nbformat": 4,
 "nbformat_minor": 4
}
